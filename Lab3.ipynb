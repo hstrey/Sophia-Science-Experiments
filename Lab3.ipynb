{
 "cells": [
  {
   "cell_type": "code",
   "execution_count": 2,
   "id": "d69f4b09",
   "metadata": {},
   "outputs": [],
   "source": [
    "%matplotlib inline\n",
    "import numpy as np\n",
    "import matplotlib.pyplot as plt\n",
    "import pandas as pd"
   ]
  },
  {
   "cell_type": "code",
   "execution_count": 46,
   "id": "17e85eff",
   "metadata": {},
   "outputs": [
    {
     "data": {
      "text/html": [
       "<div>\n",
       "<style scoped>\n",
       "    .dataframe tbody tr th:only-of-type {\n",
       "        vertical-align: middle;\n",
       "    }\n",
       "\n",
       "    .dataframe tbody tr th {\n",
       "        vertical-align: top;\n",
       "    }\n",
       "\n",
       "    .dataframe thead th {\n",
       "        text-align: right;\n",
       "    }\n",
       "</style>\n",
       "<table border=\"1\" class=\"dataframe\">\n",
       "  <thead>\n",
       "    <tr style=\"text-align: right;\">\n",
       "      <th></th>\n",
       "      <th>Frame</th>\n",
       "      <th>Position on screen</th>\n",
       "      <th>Position in cms</th>\n",
       "    </tr>\n",
       "  </thead>\n",
       "  <tbody>\n",
       "    <tr>\n",
       "      <th>0</th>\n",
       "      <td>5</td>\n",
       "      <td>1.5</td>\n",
       "      <td>1.931330</td>\n",
       "    </tr>\n",
       "    <tr>\n",
       "      <th>1</th>\n",
       "      <td>6</td>\n",
       "      <td>4.7</td>\n",
       "      <td>6.051502</td>\n",
       "    </tr>\n",
       "    <tr>\n",
       "      <th>2</th>\n",
       "      <td>7</td>\n",
       "      <td>7.8</td>\n",
       "      <td>10.042918</td>\n",
       "    </tr>\n",
       "    <tr>\n",
       "      <th>3</th>\n",
       "      <td>8</td>\n",
       "      <td>11.1</td>\n",
       "      <td>14.291845</td>\n",
       "    </tr>\n",
       "    <tr>\n",
       "      <th>4</th>\n",
       "      <td>10</td>\n",
       "      <td>17.0</td>\n",
       "      <td>21.888412</td>\n",
       "    </tr>\n",
       "    <tr>\n",
       "      <th>5</th>\n",
       "      <td>11</td>\n",
       "      <td>19.7</td>\n",
       "      <td>25.364807</td>\n",
       "    </tr>\n",
       "    <tr>\n",
       "      <th>6</th>\n",
       "      <td>12</td>\n",
       "      <td>22.3</td>\n",
       "      <td>28.712446</td>\n",
       "    </tr>\n",
       "    <tr>\n",
       "      <th>7</th>\n",
       "      <td>13</td>\n",
       "      <td>24.8</td>\n",
       "      <td>31.931330</td>\n",
       "    </tr>\n",
       "    <tr>\n",
       "      <th>8</th>\n",
       "      <td>14</td>\n",
       "      <td>27.5</td>\n",
       "      <td>35.407725</td>\n",
       "    </tr>\n",
       "  </tbody>\n",
       "</table>\n",
       "</div>"
      ],
      "text/plain": [
       "   Frame  Position on screen  Position in cms\n",
       "0      5                 1.5         1.931330\n",
       "1      6                 4.7         6.051502\n",
       "2      7                 7.8        10.042918\n",
       "3      8                11.1        14.291845\n",
       "4     10                17.0        21.888412\n",
       "5     11                19.7        25.364807\n",
       "6     12                22.3        28.712446\n",
       "7     13                24.8        31.931330\n",
       "8     14                27.5        35.407725"
      ]
     },
     "execution_count": 46,
     "metadata": {},
     "output_type": "execute_result"
    }
   ],
   "source": [
    "data = pd.read_csv(\"Lab3 analysis.csv\")\n",
    "data"
   ]
  },
  {
   "cell_type": "code",
   "execution_count": 47,
   "id": "2e46b96d",
   "metadata": {},
   "outputs": [],
   "source": [
    "t = data[\"Frame\"]/960\n",
    "d = data[\"Position in cms\"]"
   ]
  },
  {
   "cell_type": "code",
   "execution_count": 59,
   "id": "92164d2f",
   "metadata": {},
   "outputs": [
    {
     "data": {
      "image/png": "[encoded data removed]",
      "text/plain": [
       "<Figure size 432x288 with 1 Axes>"
      ]
     },
     "metadata": {
      "needs_background": "light"
     },
     "output_type": "display_data"
    }
   ],
   "source": [
    "plt.plot(t,d,\"o\")\n",
    "plt.xlabel(\"t in sec\")\n",
    "plt.ylabel(\"distance in cm\")\n",
    "plt.plot(t[0:4],y1fit,label=r'$v = 39.42\\pm .33 m/s$')\n",
    "plt.plot(t[4:],y2fit,label=r'$v = 32.26\\pm .24 m/s$')\n",
    "plt.legend()\n",
    "plt.savefig(\"lab3plot.png\")"
   ]
  },
  {
   "cell_type": "code",
   "execution_count": 58,
   "id": "e1085a32",
   "metadata": {},
   "outputs": [
    {
     "data": {
      "text/plain": [
       "Text(0, 0.5, 'distance in cm')"
      ]
     },
     "execution_count": 58,
     "metadata": {},
     "output_type": "execute_result"
    },
    {
     "data": {
      "image/png": "[encoded data removed]",
      "text/plain": [
       "<Figure size 432x288 with 1 Axes>"
      ]
     },
     "metadata": {
      "needs_background": "light"
     },
     "output_type": "display_data"
    }
   ],
   "source": [
    "plt.plot(t,d,\"o\")\n",
    "plt.xlabel(\"t in sec\")\n",
    "plt.ylabel(\"distance in cm\")\n",
    "#plt.plot(t[0:4],y1fit,label=r'$v = 39.42\\pm .33 m/s$')\n",
    "#plt.plot(t[4:],y2fit,label=r'$v = 32.26\\pm .24 m/s$')\n",
    "#plt.legend()"
   ]
  },
  {
   "cell_type": "code",
   "execution_count": 49,
   "id": "2c679b51",
   "metadata": {},
   "outputs": [
    {
     "data": {
      "text/plain": [
       "0     1.931330\n",
       "1     6.051502\n",
       "2    10.042918\n",
       "3    14.291845\n",
       "Name: Position in cms, dtype: float64"
      ]
     },
     "execution_count": 49,
     "metadata": {},
     "output_type": "execute_result"
    }
   ],
   "source": [
    "d[0:4]"
   ]
  },
  {
   "cell_type": "code",
   "execution_count": 50,
   "id": "874704c4",
   "metadata": {},
   "outputs": [],
   "source": [
    "fit1par,fit1cov = np.polyfit(t[0:4],d[0:4],1,cov=True)\n",
    "fit2par,fit2cov = np.polyfit(t[4:],d[4:],1,cov=True)"
   ]
  },
  {
   "cell_type": "code",
   "execution_count": 51,
   "id": "c81b03c8",
   "metadata": {},
   "outputs": [
    {
     "data": {
      "text/plain": [
       "(array([3943.00429185,  -18.61802575]), array([3226.0944206 ,  -11.66523605]))"
      ]
     },
     "execution_count": 51,
     "metadata": {},
     "output_type": "execute_result"
    }
   ],
   "source": [
    "fit1par, fit2par"
   ]
  },
  {
   "cell_type": "code",
   "execution_count": 52,
   "id": "107ce594",
   "metadata": {},
   "outputs": [
    {
     "data": {
      "text/plain": [
       "(array([[ 1.06947632e+03, -7.24124592e+00],\n",
       "        [-7.24124592e+00,  5.04798394e-02]]),\n",
       " array([[ 5.60201883e+02, -7.00252353e+00],\n",
       "        [-7.00252353e+00,  8.87472600e-02]]))"
      ]
     },
     "execution_count": 52,
     "metadata": {},
     "output_type": "execute_result"
    }
   ],
   "source": [
    "fit1cov, fit2cov"
   ]
  },
  {
   "cell_type": "code",
   "execution_count": 54,
   "id": "268ed151",
   "metadata": {},
   "outputs": [],
   "source": [
    "y1fit = fit1par[1]+fit1par[0]*t[0:4]\n",
    "y2fit = fit2par[1]+fit2par[0]*t[4:]"
   ]
  },
  {
   "cell_type": "code",
   "execution_count": 55,
   "id": "55e1c049",
   "metadata": {},
   "outputs": [
    {
     "data": {
      "text/plain": [
       "32.70284882345959"
      ]
     },
     "execution_count": 55,
     "metadata": {},
     "output_type": "execute_result"
    }
   ],
   "source": [
    "vel1_err = np.sqrt(fit1cov[0,0])\n",
    "vel1_err"
   ]
  },
  {
   "cell_type": "code",
   "execution_count": 56,
   "id": "a24b9062",
   "metadata": {},
   "outputs": [
    {
     "data": {
      "text/plain": [
       "23.668584294745575"
      ]
     },
     "execution_count": 56,
     "metadata": {},
     "output_type": "execute_result"
    }
   ],
   "source": [
    "vel2_err = np.sqrt(fit2cov[0,0])\n",
    "vel2_err"
   ]
  },
  {
   "cell_type": "code",
   "execution_count": null,
   "id": "4270daa3",
   "metadata": {},
   "outputs": [],
   "source": []
  }
 ],
 "metadata": {
  "kernelspec": {
   "display_name": "Python 3",
   "language": "python",
   "name": "python3"
  },
  "language_info": {
   "codemirror_mode": {
    "name": "ipython",
    "version": 3
   },
   "file_extension": ".py",
   "mimetype": "text/x-python",
   "name": "python",
   "nbconvert_exporter": "python",
   "pygments_lexer": "ipython3",
   "version": "3.8.8"
  }
 },
 "nbformat": 4,
 "nbformat_minor": 5
}
